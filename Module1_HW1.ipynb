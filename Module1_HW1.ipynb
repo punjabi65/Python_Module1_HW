{
 "cells": [
  {
   "cell_type": "code",
   "execution_count": 77,
   "id": "42afb557",
   "metadata": {},
   "outputs": [
    {
     "data": {
      "text/plain": [
       "False"
      ]
     },
     "execution_count": 77,
     "metadata": {},
     "output_type": "execute_result"
    }
   ],
   "source": [
    "line1 = \"   beautiful is better than ugly.   \"\n",
    "line2 = \"     explicit is better than implicit.\"\n",
    "line3 = \"simple is better than complex.        \"\n",
    "line4 = \"complex is better than complicated.\"\n",
    "MAX_CHAR = 50\n",
    "len(line4) > MAX_CHAR"
   ]
  },
  {
   "cell_type": "code",
   "execution_count": 83,
   "id": "7ad3e35d",
   "metadata": {},
   "outputs": [
    {
     "name": "stdout",
     "output_type": "stream",
     "text": [
      "beautiful is better than ugly.\n",
      "explicit is better than implicit.\n",
      "simple is better than complex.\n",
      "complex is better than complicated.\n"
     ]
    }
   ],
   "source": [
    "line1 = line1.strip()\n",
    "line2 = line2.strip()\n",
    "line3 = line3.strip()\n",
    "line4 = line4.strip()\n",
    "print(line1)\n",
    "print(line2)\n",
    "print(line3)\n",
    "print(line4)"
   ]
  },
  {
   "cell_type": "code",
   "execution_count": 86,
   "id": "04f180c5",
   "metadata": {},
   "outputs": [
    {
     "name": "stdout",
     "output_type": "stream",
     "text": [
      "20\n",
      "17\n",
      "20\n",
      "15\n"
     ]
    }
   ],
   "source": [
    "line1_padding = MAX_CHAR-len(line1)\n",
    "line2_padding = MAX_CHAR-len(line2)\n",
    "line3_padding = MAX_CHAR-len(line3)\n",
    "line4_padding = MAX_CHAR-len(line4)\n",
    "print(line1_padding)\n",
    "print(line2_padding)\n",
    "print(line3_padding)\n",
    "print(line4_padding)"
   ]
  },
  {
   "cell_type": "code",
   "execution_count": 91,
   "id": "c5b0990c",
   "metadata": {},
   "outputs": [
    {
     "name": "stdout",
     "output_type": "stream",
     "text": [
      " \n",
      "                    beautiful is better than ugly.\n",
      "                 explicit is better than implicit.\n",
      "                    simple is better than complex.\n",
      "               complex is better than complicated.\n"
     ]
    }
   ],
   "source": [
    "padding = \" \"\n",
    "print(padding)\n",
    "line1_pad = padding*20\n",
    "line2_pad = padding*17\n",
    "line3_pad = padding*20\n",
    "line4_pad = padding*15\n",
    "\n",
    "final_line1 = line1_pad+line1\n",
    "final_line2 = line2_pad+line2\n",
    "final_line3 = line3_pad+line3\n",
    "final_line4 = line4_pad+line4\n",
    "\n",
    "print(final_line1)\n",
    "print(final_line2)\n",
    "print(final_line3)\n",
    "print(final_line4)"
   ]
  }
 ],
 "metadata": {
  "kernelspec": {
   "display_name": "Python 3",
   "language": "python",
   "name": "python3"
  },
  "language_info": {
   "codemirror_mode": {
    "name": "ipython",
    "version": 3
   },
   "file_extension": ".py",
   "mimetype": "text/x-python",
   "name": "python",
   "nbconvert_exporter": "python",
   "pygments_lexer": "ipython3",
   "version": "3.8.8"
  }
 },
 "nbformat": 4,
 "nbformat_minor": 5
}
