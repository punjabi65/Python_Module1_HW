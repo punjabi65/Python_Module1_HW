{
 "cells": [
  {
   "cell_type": "code",
   "execution_count": 10,
   "id": "bcebf342",
   "metadata": {},
   "outputs": [
    {
     "name": "stdout",
     "output_type": "stream",
     "text": [
      "6\n",
      "Please enter the length:\n",
      "Length =  6\n",
      "Please enter the width:\n",
      "5\n",
      "Width =  5\n",
      "--------------------\n",
      "Area =  30\n",
      "Perimeter =  22\n"
     ]
    }
   ],
   "source": [
    "print(\"Please enter the length:\")\n",
    "length = int(input())\n",
    "print(\"Length = \", length)\n",
    "print(\"Please enter the width:\")\n",
    "width = int(input())\n",
    "print(\"Width = \", width)\n",
    "print (\"--------------------\")\n",
    "area = length*width\n",
    "perimeter = 2*(length+width)\n",
    "print (\"Area = \", area)\n",
    "print (\"Perimeter = \", perimeter)"
   ]
  },
  {
   "cell_type": "code",
   "execution_count": null,
   "id": "469f1bf9",
   "metadata": {},
   "outputs": [],
   "source": []
  }
 ],
 "metadata": {
  "kernelspec": {
   "display_name": "Python 3",
   "language": "python",
   "name": "python3"
  },
  "language_info": {
   "codemirror_mode": {
    "name": "ipython",
    "version": 3
   },
   "file_extension": ".py",
   "mimetype": "text/x-python",
   "name": "python",
   "nbconvert_exporter": "python",
   "pygments_lexer": "ipython3",
   "version": "3.8.8"
  }
 },
 "nbformat": 4,
 "nbformat_minor": 5
}
